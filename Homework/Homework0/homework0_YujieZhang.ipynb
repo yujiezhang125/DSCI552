{
  "nbformat": 4,
  "nbformat_minor": 0,
  "metadata": {
    "colab": {
      "name": "homework0_YujieZhang.ipynb",
      "provenance": [],
      "collapsed_sections": []
    },
    "kernelspec": {
      "name": "python3",
      "display_name": "Python 3"
    },
    "language_info": {
      "name": "python"
    }
  },
  "cells": [
    {
      "cell_type": "markdown",
      "source": [
        "# DSCI552 2022Fall \n",
        "# Homework0\n",
        "# Yujie Zhang"
      ],
      "metadata": {
        "id": "09HhHOncagSE"
      }
    },
    {
      "cell_type": "code",
      "execution_count": 1,
      "metadata": {
        "colab": {
          "base_uri": "https://localhost:8080/"
        },
        "id": "f-ow561YaWZn",
        "outputId": "e56fd1f6-12ac-45f1-9e92-fdcdf188bbbf"
      },
      "outputs": [
        {
          "output_type": "execute_result",
          "data": {
            "text/plain": [
              "9"
            ]
          },
          "metadata": {},
          "execution_count": 1
        }
      ],
      "source": [
        "test = 9\n",
        "test"
      ]
    }
  ]
}